{
  "nbformat": 4,
  "nbformat_minor": 0,
  "metadata": {
    "colab": {
      "name": "Logistic Regression (class).ipynb",
      "provenance": [],
      "authorship_tag": "ABX9TyOHn30WQ72V8Md54guSTB+g",
      "include_colab_link": true
    },
    "kernelspec": {
      "name": "python3",
      "display_name": "Python 3"
    },
    "language_info": {
      "name": "python"
    }
  },
  "cells": [
    {
      "cell_type": "markdown",
      "metadata": {
        "id": "view-in-github",
        "colab_type": "text"
      },
      "source": [
        "<a href=\"https://colab.research.google.com/github/shivjain123/Logistic_Regression-class/blob/master/Logistic_Regression_(class).ipynb\" target=\"_parent\"><img src=\"https://colab.research.google.com/assets/colab-badge.svg\" alt=\"Open In Colab\"/></a>"
      ]
    },
    {
      "cell_type": "code",
      "metadata": {
        "id": "dz1H0qbkulks"
      },
      "source": [
        "import pandas as p\n",
        "import plotly.express as px\n",
        "\n",
        "df = p.read_csv(\"tungsten.csv\")\n",
        "\n",
        "temp_list = df[\"Temperature\"].tolist()\n",
        "melted_list = df[\"Melted\"].tolist()\n",
        "\n",
        "figure = px.scatter(x = temp_list, y = melted_list)\n",
        "\n",
        "figure.show()"
      ],
      "execution_count": null,
      "outputs": []
    },
    {
      "cell_type": "code",
      "metadata": {
        "id": "9zTuMSyt2Pld"
      },
      "source": [
        "import matplotlib.pyplot as plt\n",
        "from sklearn.linear_model import LogisticRegression as lr\n",
        "import numpy as np\n",
        "\n",
        "X = np.reshape(temp_list, (len(temp_list), 1))\n",
        "Y = np.reshape(melted_list, (len(melted_list), 1))\n",
        "\n",
        "lr = lr()\n",
        "lr.fit(X, Y)\n",
        "\n",
        "plt.figure()\n",
        "plt.scatter(X.ravel(), Y, color = \"black\", zorder = 20)\n",
        "\n",
        "def model(x):\n",
        "  return 1/(1+np.exp(-x))\n",
        "\n",
        "X_test = np.linspace(0, 5000, 10000)\n",
        "chances = model(X_test * lr.coef_ + lr.intercept_).ravel()\n",
        "\n",
        "plt.plot(X_test, chances, color = \"red\", linewidth = 3)\n",
        "\n",
        "plt.axhline(y = 0, color = 'k', linestyle = '-')\n",
        "plt.axhline(y = 0.5, color = 'b', linestyle = '--')\n",
        "plt.axhline(y = 1, color = 'k', linestyle = '-')\n",
        "\n",
        "plt.axvline(x = X_test[6000], color = 'b', linestyle = '--')\n",
        "\n",
        "plt.ylabel('y')\n",
        "plt.xlabel('x')\n",
        "plt.xlim(3400, 3450)"
      ],
      "execution_count": null,
      "outputs": []
    },
    {
      "cell_type": "code",
      "metadata": {
        "id": "Iv4PD_ji6PSl"
      },
      "source": [
        "temp_input = float(input(\"Please enter the temperature \"))\n",
        "chances = model(temp_input * lr.coef_ + lr.intercept_).ravel()\n",
        "\n",
        "if (chances <= 0.01):\n",
        "  print(\"Tungsten will not melt.\")\n",
        "elif (chances >= 1):\n",
        "  print(\"Tungsten will melt.\")\n",
        "elif (chances <= 0.5):\n",
        "  print(\"Tungsten will not melt.\")\n",
        "elif (chances >= 0.5):\n",
        "  print(\"Tungsten might melt.\")\n",
        "else:\n",
        "  pass"
      ],
      "execution_count": null,
      "outputs": []
    }
  ]
}